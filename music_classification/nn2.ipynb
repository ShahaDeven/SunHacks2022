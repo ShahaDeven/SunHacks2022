{
 "cells": [
  {
   "cell_type": "code",
   "execution_count": 46,
   "id": "493d3719",
   "metadata": {},
   "outputs": [
    {
     "name": "stdout",
     "output_type": "stream",
     "text": [
      "cv score: 0.6598064516129032\n"
     ]
    }
   ],
   "source": [
    "import pandas as pd\n",
    "import matplotlib.pyplot as plt\n",
    "from sklearn.preprocessing import StandardScaler\n",
    "from sklearn.neural_network import MLPClassifier\n",
    "from sklearn.metrics import accuracy_score\n",
    "from sklearn.model_selection import cross_val_score, cross_val_predict\n",
    "from sklearn.model_selection import train_test_split\n",
    "from sklearn.model_selection import GridSearchCV\n",
    "import numpy as np\n",
    "\n",
    "features_for_mood = ['energy', 'liveness', 'tempo', 'speechiness',\n",
    "                                     'acousticness', 'instrumentalness', 'danceability', 'duration_ms',\n",
    "                                     'loudness', 'valence']\n",
    "\n",
    "data = pd.read_csv('tracks3.csv')\n",
    "hyper_opt = False\n",
    "\n",
    "#split into trainval and test\n",
    "trainx, testx, trainy, testy = train_test_split(data[features_for_mood], data['mood'], test_size = 0.33,\n",
    "                                                random_state = 42, stratify=data['mood'])\n",
    "\n",
    "scaler = StandardScaler()\n",
    "train_scaled = scaler.fit_transform(trainx)\n",
    "\n",
    "nn = MLPClassifier(max_iter = 15000, alpha=1.0, hidden_layer_sizes=8)\n",
    "scores = cross_val_score(nn, train_scaled, trainy, cv=5)\n",
    "print (\"cv score: \" + str(scores.mean()))\n",
    "\n",
    "if hyper_opt:\n",
    "    params = {\"alpha\": np.logspace(-4, 2, 7), 'hidden_layer_sizes': [1, 2, 5, 10, 20, 50, 100]}\n",
    "    clf = GridSearchCV(nn, params)\n",
    "    clf.fit(train_scaled, trainy)\n",
    "    print(\"hyperparam optimized score : \" + str(clf.best_score_))\n",
    "    import pdb\n",
    "    pdb.set_trace()"
   ]
  },
  {
   "cell_type": "code",
   "execution_count": 47,
   "id": "af1fab63",
   "metadata": {},
   "outputs": [],
   "source": [
    "from sklearn.model_selection import cross_validate"
   ]
  },
  {
   "cell_type": "code",
   "execution_count": 48,
   "id": "8609e778",
   "metadata": {},
   "outputs": [],
   "source": [
    "results = cross_validate(nn, train_scaled, trainy, return_train_score=True)"
   ]
  },
  {
   "cell_type": "code",
   "execution_count": 49,
   "id": "43260f5a",
   "metadata": {},
   "outputs": [
    {
     "data": {
      "text/plain": [
       "{'fit_time': array([0.51912761, 0.48386359, 0.44078565, 0.40482426, 0.72999001]),\n",
       " 'score_time': array([0.        , 0.00150752, 0.0009923 , 0.00169373, 0.        ]),\n",
       " 'test_score': array([0.592     , 0.68      , 0.688     , 0.61290323, 0.7016129 ]),\n",
       " 'train_score': array([0.72690763, 0.73895582, 0.70080321, 0.72144289, 0.70741483])}"
      ]
     },
     "execution_count": 49,
     "metadata": {},
     "output_type": "execute_result"
    }
   ],
   "source": [
    "results"
   ]
  },
  {
   "cell_type": "code",
   "execution_count": 50,
   "id": "445706e8",
   "metadata": {},
   "outputs": [],
   "source": [
    "nn = MLPClassifier(hidden_layer_sizes=8, max_iter=15000, alpha=1.0)"
   ]
  },
  {
   "cell_type": "code",
   "execution_count": 51,
   "id": "b1255abc",
   "metadata": {},
   "outputs": [
    {
     "data": {
      "text/plain": [
       "0.6840390879478827"
      ]
     },
     "execution_count": 51,
     "metadata": {},
     "output_type": "execute_result"
    }
   ],
   "source": [
    "nn.fit(train_scaled, trainy)\n",
    "test_preds = nn.predict(scaler.transform(testx))\n",
    "accuracy_score(test_preds, testy)"
   ]
  },
  {
   "cell_type": "code",
   "execution_count": 52,
   "id": "459cb57b",
   "metadata": {},
   "outputs": [],
   "source": [
    "import seaborn as sn\n",
    "from sklearn.metrics import confusion_matrix"
   ]
  },
  {
   "cell_type": "code",
   "execution_count": 53,
   "id": "5f60b095",
   "metadata": {},
   "outputs": [],
   "source": [
    "conf_matrix = confusion_matrix(testy, test_preds, labels = data['mood'].unique().tolist())"
   ]
  },
  {
   "cell_type": "code",
   "execution_count": 67,
   "id": "65c1526d",
   "metadata": {},
   "outputs": [
    {
     "name": "stdout",
     "output_type": "stream",
     "text": [
      "['Happy' 'Happy' 'Dark' 'Energetic' 'Happy' 'Happy' 'Dark' 'Relaxing'\n",
      " 'Happy' 'Dark' 'Energetic' 'Dark' 'Energetic' 'Dark' 'Happy' 'Dark'\n",
      " 'Energetic' 'Dark' 'Dark' 'Happy' 'Aggressive' 'Aggressive' 'Aggressive'\n",
      " 'Relaxing' 'Dark' 'Dark' 'Dark' 'Dark' 'Happy' 'Relaxing' 'Dark' 'Happy'\n",
      " 'Dark' 'Dark' 'Energetic' 'Happy' 'Dark' 'Aggressive' 'Energetic'\n",
      " 'Energetic' 'Aggressive' 'Energetic' 'Relaxing' 'Aggressive' 'Aggressive'\n",
      " 'Aggressive' 'Dark' 'Dark' 'Aggressive' 'Relaxing' 'Dark' 'Relaxing'\n",
      " 'Energetic' 'Dark' 'Dark' 'Energetic' 'Energetic' 'Happy' 'Energetic'\n",
      " 'Dark' 'Aggressive' 'Happy' 'Relaxing' 'Relaxing' 'Dark' 'Energetic'\n",
      " 'Aggressive' 'Aggressive' 'Dark' 'Dark' 'Happy' 'Dark' 'Happy' 'Happy'\n",
      " 'Relaxing' 'Happy' 'Aggressive' 'Happy' 'Energetic' 'Happy' 'Aggressive'\n",
      " 'Aggressive' 'Dark' 'Dark' 'Happy' 'Energetic' 'Happy' 'Energetic'\n",
      " 'Aggressive' 'Relaxing' 'Energetic' 'Relaxing' 'Happy' 'Aggressive'\n",
      " 'Relaxing' 'Dark' 'Energetic' 'Happy' 'Dark' 'Relaxing' 'Happy'\n",
      " 'Aggressive' 'Relaxing' 'Energetic' 'Energetic' 'Happy' 'Dark' 'Dark'\n",
      " 'Dark' 'Relaxing' 'Aggressive' 'Aggressive' 'Happy' 'Aggressive' 'Dark'\n",
      " 'Energetic' 'Happy' 'Happy' 'Dark' 'Relaxing' 'Relaxing' 'Aggressive'\n",
      " 'Energetic' 'Happy' 'Happy' 'Aggressive' 'Relaxing' 'Relaxing' 'Happy'\n",
      " 'Happy' 'Relaxing' 'Dark' 'Dark' 'Dark' 'Happy' 'Aggressive' 'Energetic'\n",
      " 'Energetic' 'Dark' 'Dark' 'Relaxing' 'Energetic' 'Energetic' 'Aggressive'\n",
      " 'Energetic' 'Relaxing' 'Dark' 'Aggressive' 'Dark' 'Aggressive'\n",
      " 'Aggressive' 'Dark' 'Relaxing' 'Relaxing' 'Dark' 'Relaxing' 'Happy'\n",
      " 'Energetic' 'Happy' 'Energetic' 'Dark' 'Energetic' 'Aggressive'\n",
      " 'Energetic' 'Happy' 'Aggressive' 'Dark' 'Dark' 'Relaxing' 'Dark' 'Dark'\n",
      " 'Happy' 'Happy' 'Happy' 'Happy' 'Dark' 'Dark' 'Happy' 'Energetic' 'Happy'\n",
      " 'Energetic' 'Happy' 'Energetic' 'Energetic' 'Aggressive' 'Relaxing'\n",
      " 'Aggressive' 'Aggressive' 'Aggressive' 'Happy' 'Aggressive' 'Dark'\n",
      " 'Happy' 'Energetic' 'Happy' 'Happy' 'Aggressive' 'Happy' 'Aggressive'\n",
      " 'Happy' 'Dark' 'Relaxing' 'Dark' 'Aggressive' 'Energetic' 'Happy' 'Happy'\n",
      " 'Dark' 'Happy' 'Dark' 'Relaxing' 'Relaxing' 'Dark' 'Happy' 'Dark'\n",
      " 'Aggressive' 'Energetic' 'Relaxing' 'Dark' 'Dark' 'Happy' 'Energetic'\n",
      " 'Dark' 'Relaxing' 'Happy' 'Dark' 'Happy' 'Aggressive' 'Energetic' 'Happy'\n",
      " 'Energetic' 'Aggressive' 'Aggressive' 'Energetic' 'Relaxing' 'Happy'\n",
      " 'Energetic' 'Energetic' 'Dark' 'Happy' 'Happy' 'Dark' 'Happy'\n",
      " 'Aggressive' 'Relaxing' 'Aggressive' 'Aggressive' 'Energetic'\n",
      " 'Aggressive' 'Energetic' 'Happy' 'Energetic' 'Aggressive' 'Energetic'\n",
      " 'Aggressive' 'Relaxing' 'Happy' 'Energetic' 'Energetic' 'Aggressive'\n",
      " 'Aggressive' 'Happy' 'Relaxing' 'Aggressive' 'Relaxing' 'Dark'\n",
      " 'Energetic' 'Aggressive' 'Dark' 'Happy' 'Relaxing' 'Aggressive' 'Dark'\n",
      " 'Happy' 'Dark' 'Aggressive' 'Dark' 'Aggressive' 'Energetic' 'Aggressive'\n",
      " 'Aggressive' 'Aggressive' 'Happy' 'Happy' 'Happy' 'Happy' 'Relaxing'\n",
      " 'Dark' 'Relaxing' 'Relaxing' 'Happy' 'Dark' 'Aggressive' 'Energetic'\n",
      " 'Dark' 'Happy' 'Energetic' 'Happy' 'Aggressive' 'Energetic' 'Relaxing'\n",
      " 'Aggressive' 'Happy' 'Dark' 'Happy' 'Happy' 'Dark']\n"
     ]
    }
   ],
   "source": [
    "labels = data['mood'].unique().tolist()\n",
    "import csv\n",
    "print(test_preds)\n",
    "with open('Predictions.csv', 'w', newline = '') as csvfile:\n",
    "    my_writer = csv.writer(csvfile, delimiter = '\\n')\n",
    "    my_writer.writerow(test_preds)"
   ]
  },
  {
   "cell_type": "code",
   "execution_count": 55,
   "id": "733fc2e2",
   "metadata": {},
   "outputs": [
    {
     "data": {
      "image/png": "[encoded data removed]",
      "text/plain": [
       "<Figure size 504x360 with 2 Axes>"
      ]
     },
     "metadata": {
      "needs_background": "light"
     },
     "output_type": "display_data"
    }
   ],
   "source": [
    "plt.rcParams['figure.figsize'] = (7,5)\n",
    "ax = plt.subplot()\n",
    "sn.heatmap(conf_matrix, annot=True)\n",
    "#labels = data['mood'].tolist()\n",
    "ax.set_xlabel('Predicted labels')\n",
    "ax.set_ylabel('True labels')\n",
    "ax.set_title('Confusion Matrix')\n",
    "ax.xaxis.set_ticklabels(labels)\n",
    "ax.yaxis.set_ticklabels(labels)\n",
    "plt.show()"
   ]
  },
  {
   "cell_type": "code",
   "execution_count": 56,
   "id": "a9e763d4",
   "metadata": {},
   "outputs": [],
   "source": [
    "import matplotlib.pyplot as plt\n",
    "%matplotlib inline\n",
    "plt.rcParams['figure.figsize'] = (10,10)"
   ]
  },
  {
   "cell_type": "code",
   "execution_count": 57,
   "id": "bbfb3923",
   "metadata": {},
   "outputs": [],
   "source": [
    "from sklearn.model_selection import learning_curve\n",
    "train_sizes, train_scores, val_scores = learning_curve(nn, train_scaled, trainy, cv=5)"
   ]
  },
  {
   "cell_type": "code",
   "execution_count": 58,
   "id": "7607d11b",
   "metadata": {},
   "outputs": [
    {
     "data": {
      "text/plain": [
       "<matplotlib.legend.Legend at 0x253dc32ebf0>"
      ]
     },
     "execution_count": 58,
     "metadata": {},
     "output_type": "execute_result"
    },
    {
     "data": {
      "image/png": "[encoded data removed]",
      "text/plain": [
       "<Figure size 720x720 with 1 Axes>"
      ]
     },
     "metadata": {
      "needs_background": "light"
     },
     "output_type": "display_data"
    }
   ],
   "source": [
    "train_scores_mean = np.mean(train_scores, axis=1)\n",
    "val_scores_mean = np.mean(val_scores, axis=1)\n",
    "plt.plot(train_sizes, train_scores_mean, label='training score')\n",
    "plt.plot(train_sizes, val_scores_mean, label='validation score')\n",
    "plt.xlabel('training size')\n",
    "plt.legend()"
   ]
  },
  {
   "cell_type": "code",
   "execution_count": null,
   "id": "9a829a65",
   "metadata": {},
   "outputs": [],
   "source": []
  }
 ],
 "metadata": {
  "kernelspec": {
   "display_name": "Python 3.10.4 64-bit",
   "language": "python",
   "name": "python3"
  },
  "language_info": {
   "codemirror_mode": {
    "name": "ipython",
    "version": 3
   },
   "file_extension": ".py",
   "mimetype": "text/x-python",
   "name": "python",
   "nbconvert_exporter": "python",
   "pygments_lexer": "ipython3",
   "version": "3.10.4"
  },
  "vscode": {
   "interpreter": {
    "hash": "63963b3f4c440940f0b94a3100916033a226cb4f45979123153792d60aa56d6a"
   }
  }
 },
 "nbformat": 4,
 "nbformat_minor": 5
}
