{
 "cells": [
  {
   "cell_type": "code",
   "execution_count": 35,
   "id": "493d3719",
   "metadata": {},
   "outputs": [
    {
     "name": "stdout",
     "output_type": "stream",
     "text": [
      "cv score: 0.6933032258064517\n"
     ]
    }
   ],
   "source": [
    "import pandas as pd\n",
    "import matplotlib.pyplot as plt\n",
    "from sklearn.preprocessing import StandardScaler\n",
    "from sklearn.neural_network import MLPClassifier\n",
    "from sklearn.metrics import accuracy_score\n",
    "from sklearn.model_selection import cross_val_score, cross_val_predict\n",
    "from sklearn.model_selection import train_test_split\n",
    "from sklearn.model_selection import GridSearchCV\n",
    "import numpy as np\n",
    "\n",
    "features_for_mood = ['energy', 'liveness', 'tempo', 'speechiness',\n",
    "                                     'acousticness', 'instrumentalness', 'danceability', 'duration_ms',\n",
    "                                     'loudness', 'valence']\n",
    "\n",
    "data = pd.read_csv('tracks7.csv')\n",
    "hyper_opt = False\n",
    "\n",
    "#split into trainval and test\n",
    "trainx, testx, trainy, testy = train_test_split(data[features_for_mood], data['mood'], test_size = 0.33,\n",
    "                                                random_state = 42, stratify=data['mood'])\n",
    "\n",
    "scaler = StandardScaler()\n",
    "train_scaled = scaler.fit_transform(trainx)\n",
    "\n",
    "nn = MLPClassifier(max_iter = 15000, alpha=1.0, hidden_layer_sizes=8)\n",
    "scores = cross_val_score(nn, train_scaled, trainy, cv=5)\n",
    "print (\"cv score: \" + str(scores.mean()))\n",
    "\n",
    "if hyper_opt:\n",
    "    params = {\"alpha\": np.logspace(-4, 2, 7), 'hidden_layer_sizes': [1, 2, 5, 10, 20, 50, 100]}\n",
    "    clf = GridSearchCV(nn, params)\n",
    "    clf.fit(train_scaled, trainy)\n",
    "    print(\"hyperparam optimized score : \" + str(clf.best_score_))\n",
    "    import pdb\n",
    "    pdb.set_trace()"
   ]
  },
  {
   "cell_type": "code",
   "execution_count": 36,
   "id": "af1fab63",
   "metadata": {},
   "outputs": [],
   "source": [
    "from sklearn.model_selection import cross_validate"
   ]
  },
  {
   "cell_type": "code",
   "execution_count": 37,
   "id": "8609e778",
   "metadata": {},
   "outputs": [],
   "source": [
    "results = cross_validate(nn, train_scaled, trainy, return_train_score=True)"
   ]
  },
  {
   "cell_type": "code",
   "execution_count": 38,
   "id": "43260f5a",
   "metadata": {},
   "outputs": [
    {
     "data": {
      "text/plain": [
       "{'fit_time': array([0.34909177, 0.37741184, 0.38939142, 0.37444282, 0.33490586]),\n",
       " 'score_time': array([0.00100017, 0.        , 0.        , 0.        , 0.        ]),\n",
       " 'test_score': array([0.744     , 0.728     , 0.776     , 0.64516129, 0.7016129 ]),\n",
       " 'train_score': array([0.72289157, 0.7248996 , 0.7188755 , 0.75551102, 0.72745491])}"
      ]
     },
     "execution_count": 38,
     "metadata": {},
     "output_type": "execute_result"
    }
   ],
   "source": [
    "results"
   ]
  },
  {
   "cell_type": "code",
   "execution_count": 39,
   "id": "445706e8",
   "metadata": {},
   "outputs": [],
   "source": [
    "nn = MLPClassifier(hidden_layer_sizes=8, max_iter=15000, alpha=1.0)"
   ]
  },
  {
   "cell_type": "code",
   "execution_count": 40,
   "id": "b1255abc",
   "metadata": {},
   "outputs": [
    {
     "data": {
      "text/plain": [
       "0.6710097719869706"
      ]
     },
     "execution_count": 40,
     "metadata": {},
     "output_type": "execute_result"
    }
   ],
   "source": [
    "nn.fit(train_scaled, trainy)\n",
    "test_preds = nn.predict(scaler.transform(testx))\n",
    "accuracy_score(test_preds, testy)"
   ]
  },
  {
   "cell_type": "code",
   "execution_count": 41,
   "id": "459cb57b",
   "metadata": {},
   "outputs": [],
   "source": [
    "import seaborn as sn\n",
    "from sklearn.metrics import confusion_matrix"
   ]
  },
  {
   "cell_type": "code",
   "execution_count": 42,
   "id": "5f60b095",
   "metadata": {},
   "outputs": [],
   "source": [
    "conf_matrix = confusion_matrix(testy, test_preds, labels = data['mood'].unique().tolist())"
   ]
  },
  {
   "cell_type": "code",
   "execution_count": 43,
   "id": "65c1526d",
   "metadata": {},
   "outputs": [
    {
     "name": "stdout",
     "output_type": "stream",
     "text": [
      "[3 4 1 1 4 1 0 0 1 1 0 4 3 1 3 4 1 3 1 1 2 1 4 2 3 2 3 3 3 2 4 0 4 3 4 1 3\n",
      " 1 1 4 1 0 4 4 2 3 1 3 0 1 1 2 4 0 1 1 2 2 1 3 1 0 1 0 1 2 1 4 1 4 4 4 4 0\n",
      " 1 3 4 3 4 1 1 1 0 4 2 2 3 3 1 1 4 2 3 1 0 1 0 1 1 2 1 0 0 0 1 4 0 4 0 0 1\n",
      " 1 2 3 3 1 1 1 4 4 2 0 1 3 3 1 4 2 1 1 1 0 2 2 1 4 4 0 4 1 1 3 4 0 1 3 3 3\n",
      " 3 4 3 1 1 0 4 3 4 2 3 4 2 2 1 1 1 2 4 3 3 1 0 3 1 0 4 4 1 4 3 0 4 4 4 3 4\n",
      " 2 4 2 3 4 3 1 3 4 1 0 4 1 3 0 4 3 1 1 3 0 3 4 1 4 4 1 0 1 1 2 1 3 0 4 2 1\n",
      " 3 1 4 0 4 0 4 3 0 3 4 1 1 2 0 2 1 4 4 1 4 3 2 3 4 2 4 4 3 3 4 4 3 1 3 4 3\n",
      " 3 3 4 3 0 1 4 4 4 1 2 4 1 0 3 1 4 0 0 3 3 1 3 4 1 1 2 2 1 3 1 4 3 2 0 3 2\n",
      " 3 0 1 0 3 2 4 0 4 2 2]\n"
     ]
    }
   ],
   "source": [
    "labels = data['mood'].unique().tolist()\n",
    "import csv\n",
    "print(test_preds)\n",
    "with open('Predictions.csv', 'w', newline = '') as csvfile:\n",
    "    my_writer = csv.writer(csvfile, delimiter = '\\n')\n",
    "    my_writer.writerow(test_preds)"
   ]
  },
  {
   "cell_type": "code",
   "execution_count": 44,
   "id": "733fc2e2",
   "metadata": {},
   "outputs": [
    {
     "data": {
      "image/png": "[encoded data removed]",
      "text/plain": [
       "<Figure size 504x360 with 2 Axes>"
      ]
     },
     "metadata": {
      "needs_background": "light"
     },
     "output_type": "display_data"
    }
   ],
   "source": [
    "plt.rcParams['figure.figsize'] = (7,5)\n",
    "ax = plt.subplot()\n",
    "sn.heatmap(conf_matrix, annot=True)\n",
    "#labels = data['mood'].tolist()\n",
    "ax.set_xlabel('Predicted labels')\n",
    "ax.set_ylabel('True labels')\n",
    "ax.set_title('Confusion Matrix')\n",
    "ax.xaxis.set_ticklabels(labels)\n",
    "ax.yaxis.set_ticklabels(labels)\n",
    "plt.show()"
   ]
  },
  {
   "cell_type": "code",
   "execution_count": null,
   "id": "e4921b4f",
   "metadata": {},
   "outputs": [],
   "source": []
  }
 ],
 "metadata": {
  "kernelspec": {
   "display_name": "Python 3.9.5 64-bit",
   "language": "python",
   "name": "python3"
  },
  "language_info": {
   "codemirror_mode": {
    "name": "ipython",
    "version": 3
   },
   "file_extension": ".py",
   "mimetype": "text/x-python",
   "name": "python",
   "nbconvert_exporter": "python",
   "pygments_lexer": "ipython3",
   "version": "3.9.5"
  },
  "vscode": {
   "interpreter": {
    "hash": "2469a70536e4d2335a2ea8907942d0699c37342a371ac185bdb5b0aa6f073890"
   }
  }
 },
 "nbformat": 4,
 "nbformat_minor": 5
}
